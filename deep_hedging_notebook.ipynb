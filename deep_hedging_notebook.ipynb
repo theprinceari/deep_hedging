{
 "cells": [
  {
   "cell_type": "markdown",
   "id": "85e6beaa",
   "metadata": {},
   "source": [
    "# 🧠 Deep Hedging avec PyTorch\n",
    "\n",
    "Ce notebook simule un marché Black-Scholes et apprend une stratégie de couverture d'option européenne (call) à l'aide d'un réseau de neurones (MLP)."
   ]
  },
  {
   "cell_type": "markdown",
   "id": "896e6754",
   "metadata": {},
   "source": [
    "## 1. Imports"
   ]
  },
  {
   "cell_type": "code",
   "execution_count": 5,
   "id": "899c9dcf",
   "metadata": {},
   "outputs": [
    {
     "ename": "ModuleNotFoundError",
     "evalue": "No module named 'torch'",
     "output_type": "error",
     "traceback": [
      "\u001b[0;31m---------------------------------------------------------------------------\u001b[0m",
      "\u001b[0;31mModuleNotFoundError\u001b[0m                       Traceback (most recent call last)",
      "Cell \u001b[0;32mIn[5], line 2\u001b[0m\n\u001b[1;32m      1\u001b[0m \u001b[38;5;28;01mimport\u001b[39;00m \u001b[38;5;21;01mnumpy\u001b[39;00m \u001b[38;5;28;01mas\u001b[39;00m \u001b[38;5;21;01mnp\u001b[39;00m\n\u001b[0;32m----> 2\u001b[0m \u001b[38;5;28;01mimport\u001b[39;00m \u001b[38;5;21;01mtorch\u001b[39;00m\n\u001b[1;32m      3\u001b[0m \u001b[38;5;28;01mimport\u001b[39;00m \u001b[38;5;21;01mtorch\u001b[39;00m\u001b[38;5;21;01m.\u001b[39;00m\u001b[38;5;21;01mnn\u001b[39;00m \u001b[38;5;28;01mas\u001b[39;00m \u001b[38;5;21;01mnn\u001b[39;00m\n\u001b[1;32m      4\u001b[0m \u001b[38;5;28;01mimport\u001b[39;00m \u001b[38;5;21;01mtorch\u001b[39;00m\u001b[38;5;21;01m.\u001b[39;00m\u001b[38;5;21;01moptim\u001b[39;00m \u001b[38;5;28;01mas\u001b[39;00m \u001b[38;5;21;01moptim\u001b[39;00m\n",
      "\u001b[0;31mModuleNotFoundError\u001b[0m: No module named 'torch'"
     ]
    }
   ],
   "source": [
    "import numpy as np\n",
    "import torch\n",
    "import torch.nn as nn\n",
    "import torch.optim as optim\n",
    "import matplotlib.pyplot as plt\n",
    "from scipy.stats import norm\n",
    "from sklearn.metrics import mean_squared_error"
   ]
  },
  {
   "cell_type": "markdown",
   "id": "6d4d0819",
   "metadata": {},
   "source": [
    "## 2. Simulation de trajectoires de marché (modèle Black-Scholes)"
   ]
  },
  {
   "cell_type": "code",
   "execution_count": null,
   "id": "480f4a35",
   "metadata": {},
   "outputs": [],
   "source": [
    "# Fonction de simulation Black-Scholes\n",
    "def simulate_black_scholes_paths(S0, r, sigma, T, N, M, seed=42):\n",
    "    np.random.seed(seed)\n",
    "    dt = T / N\n",
    "    paths = np.zeros((M, N + 1))\n",
    "    paths[:, 0] = S0\n",
    "    for t in range(1, N + 1):\n",
    "        Z = np.random.randn(M)\n",
    "        paths[:, t] = paths[:, t - 1] * np.exp((r - 0.5 * sigma ** 2) * dt + sigma * np.sqrt(dt) * Z)\n",
    "    return paths"
   ]
  },
  {
   "cell_type": "markdown",
   "id": "707aaf83",
   "metadata": {},
   "source": [
    "## 3. Modèle de couverture (réseau neuronal simple)"
   ]
  },
  {
   "cell_type": "code",
   "execution_count": null,
   "id": "db823b4f",
   "metadata": {},
   "outputs": [],
   "source": [
    "# Modèle PyTorch\n",
    "class HedgingNN(nn.Module):\n",
    "    def __init__(self, input_dim, hidden_dim):\n",
    "        super().__init__()\n",
    "        self.model = nn.Sequential(\n",
    "            nn.Linear(input_dim, hidden_dim),\n",
    "            nn.ReLU(),\n",
    "            nn.Linear(hidden_dim, 1)\n",
    "        )\n",
    "\n",
    "    def forward(self, x):\n",
    "        return self.model(x)"
   ]
  },
  {
   "cell_type": "markdown",
   "id": "6a196cfe",
   "metadata": {},
   "source": [
    "## 4. Delta classique de Black-Scholes (pour comparaison)"
   ]
  },
  {
   "cell_type": "code",
   "execution_count": null,
   "id": "beb15aad",
   "metadata": {},
   "outputs": [],
   "source": [
    "# Formule delta call européen\n",
    "\n",
    "def bs_delta_call(S, K, T, r, sigma):\n",
    "    d1 = (np.log(S / K) + (r + 0.5 * sigma**2) * T) / (sigma * np.sqrt(T))\n",
    "    return norm.cdf(d1)"
   ]
  },
  {
   "cell_type": "markdown",
   "id": "da2c51ba",
   "metadata": {},
   "source": [
    "## 5. Entraînement du modèle et calcul des erreurs"
   ]
  },
  {
   "cell_type": "code",
   "execution_count": null,
   "id": "ccfd013c",
   "metadata": {},
   "outputs": [],
   "source": [
    "# Fonction d'entraînement\n",
    "def train_hedging_model(S_paths, K, r, T, sigma, model, n_epochs=30, lr=1e-3):\n",
    "    device = torch.device(\"cuda\" if torch.cuda.is_available() else \"cpu\")\n",
    "    model = model.to(device)\n",
    "    optimizer = optim.Adam(model.parameters(), lr=lr)\n",
    "    loss_fn = nn.MSELoss()\n",
    "\n",
    "    N = S_paths.shape[1] - 1\n",
    "    dt = T / N\n",
    "\n",
    "    train_losses = []\n",
    "    nn_residuals = []\n",
    "    delta_residuals = []\n",
    "\n",
    "    for epoch in range(n_epochs):\n",
    "        total_loss = 0\n",
    "        for i in range(S_paths.shape[0]):\n",
    "            S = S_paths[i]\n",
    "            S_tensor = torch.tensor(S[:-1], dtype=torch.float32).view(-1, 1).to(device)\n",
    "            dS = torch.tensor(S[1:] - S[:-1], dtype=torch.float32).view(-1, 1).to(device)\n",
    "\n",
    "            phi = model(S_tensor)\n",
    "            pnl = torch.sum(phi * dS)\n",
    "            payoff = max(S[-1] - K, 0.0)\n",
    "            payoff_tensor = torch.tensor(payoff, dtype=torch.float32).to(device)\n",
    "\n",
    "            loss = loss_fn(pnl, payoff_tensor)\n",
    "\n",
    "            optimizer.zero_grad()\n",
    "            loss.backward()\n",
    "            optimizer.step()\n",
    "            total_loss += loss.item()\n",
    "\n",
    "            if epoch == n_epochs - 1:\n",
    "                nn_residuals.append((pnl.item() - payoff))\n",
    "                T_grid = np.linspace(0, T, N)\n",
    "                delta_positions = bs_delta_call(S[:-1], K, T - T_grid, r, sigma)\n",
    "                pnl_delta = np.sum(delta_positions * (S[1:] - S[:-1]))\n",
    "                delta_residuals.append(pnl_delta - payoff)\n",
    "\n",
    "        train_losses.append(total_loss / S_paths.shape[0])\n",
    "        print(f\"Epoch {epoch + 1}/{n_epochs} - Loss: {train_losses[-1]:.4f}\")\n",
    "\n",
    "    return train_losses, nn_residuals, delta_residuals"
   ]
  },
  {
   "cell_type": "markdown",
   "id": "aca450dc",
   "metadata": {},
   "source": [
    "## 6. Paramètres du problème et exécution"
   ]
  },
  {
   "cell_type": "code",
   "execution_count": null,
   "id": "d9118f1a",
   "metadata": {},
   "outputs": [],
   "source": [
    "S0 = 100\n",
    "r = 0.01\n",
    "sigma = 0.2\n",
    "T = 1.0\n",
    "N = 30\n",
    "M = 1000\n",
    "K = 100\n",
    "\n",
    "S_paths = simulate_black_scholes_paths(S0, r, sigma, T, N, M)\n",
    "model = HedgingNN(input_dim=1, hidden_dim=16)\n",
    "\n",
    "train_losses, nn_residuals, delta_residuals = train_hedging_model(S_paths, K, r, T, sigma, model, n_epochs=30, lr=1e-3)"
   ]
  },
  {
   "cell_type": "markdown",
   "id": "f0dfe4a3",
   "metadata": {},
   "source": [
    "## 7. Visualisation des résultats"
   ]
  },
  {
   "cell_type": "code",
   "execution_count": null,
   "id": "317ff9ca",
   "metadata": {},
   "outputs": [],
   "source": [
    "# Courbe de perte\n",
    "plt.figure(figsize=(8, 4))\n",
    "plt.plot(train_losses)\n",
    "plt.title(\"Courbe de perte pendant l'entraînement\")\n",
    "plt.xlabel(\"Époque\")\n",
    "plt.ylabel(\"Loss (MSE)\")\n",
    "plt.grid(True)\n",
    "plt.show()"
   ]
  },
  {
   "cell_type": "code",
   "execution_count": null,
   "id": "c811b7d1",
   "metadata": {},
   "outputs": [],
   "source": [
    "# Histogrammes des résidus\n",
    "plt.figure(figsize=(10, 4))\n",
    "plt.hist(nn_residuals, bins=40, alpha=0.5, label=\"Deep Hedging\")\n",
    "plt.hist(delta_residuals, bins=40, alpha=0.5, label=\"Delta classique\")\n",
    "plt.axvline(0, color='black', linestyle='--')\n",
    "plt.title(\"Distribution des erreurs de couverture\")\n",
    "plt.xlabel(\"Résidu (P&L - Payoff)\")\n",
    "plt.ylabel(\"Fréquence\")\n",
    "plt.legend()\n",
    "plt.grid(True)\n",
    "plt.show()"
   ]
  },
  {
   "cell_type": "markdown",
   "id": "63a08f43",
   "metadata": {},
   "source": [
    "## 8. Métrique quantitative : RMSE des stratégies"
   ]
  },
  {
   "cell_type": "code",
   "execution_count": null,
   "id": "8441058a",
   "metadata": {},
   "outputs": [],
   "source": [
    "rmse_nn = mean_squared_error([0]*len(nn_residuals), nn_residuals, squared=False)\n",
    "rmse_delta = mean_squared_error([0]*len(delta_residuals), delta_residuals, squared=False)\n",
    "\n",
    "print(f\"RMSE Deep Hedging : {rmse_nn:.4f}\")\n",
    "print(f\"RMSE Delta classique : {rmse_delta:.4f}\")"
   ]
  }
 ],
 "metadata": {
  "kernelspec": {
   "display_name": "Python 3 (ipykernel)",
   "language": "python",
   "name": "python3"
  },
  "language_info": {
   "codemirror_mode": {
    "name": "ipython",
    "version": 3
   },
   "file_extension": ".py",
   "mimetype": "text/x-python",
   "name": "python",
   "nbconvert_exporter": "python",
   "pygments_lexer": "ipython3",
   "version": "3.12.2"
  }
 },
 "nbformat": 4,
 "nbformat_minor": 5
}
