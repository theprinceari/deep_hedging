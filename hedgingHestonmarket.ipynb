{
  "nbformat": 4,
  "nbformat_minor": 0,
  "metadata": {
    "colab": {
      "provenance": []
    },
    "kernelspec": {
      "name": "python3",
      "display_name": "Python 3"
    },
    "language_info": {
      "name": "python"
    }
  },
  "cells": [
    {
      "cell_type": "code",
      "execution_count": null,
      "metadata": {
        "id": "F5niYjAqTRU5"
      },
      "outputs": [],
      "source": []
    },
    {
      "cell_type": "markdown",
      "source": [
        "# 📘 Deep Hedging — Marché Heston (version complète)\n",
        "\n",
        "Ce notebook entraîne un réseau neuronal (Deep Hedging) pour couvrir un **call européen** dans un marché Heston.  \n",
        "Fonctionnalités :\n",
        "- simulation Heston (Euler, full-truncation)\n",
        "- réseau (entrée : log(S), tau)\n",
        "- loss : MSE shortfall ou CVaR (Rockafellar–Uryasev)\n",
        "- coûts de transaction proportionnels\n",
        "- entraînement vectorisé + minibatching\n",
        "- baseline : delta Black-Scholes avec volatilité effective\n",
        "- visualisations et métriques (RMSE, ES)\n"
      ],
      "metadata": {
        "id": "5ZdLbm7GTT74"
      }
    },
    {
      "cell_type": "code",
      "source": [
        "!pip install torch pandas numpy matplotlib\n"
      ],
      "metadata": {
        "colab": {
          "base_uri": "https://localhost:8080/"
        },
        "id": "6UBMUnX3TqcH",
        "outputId": "e9b27bfe-5f36-4776-b9b4-3ab57c531573"
      },
      "execution_count": 4,
      "outputs": [
        {
          "output_type": "stream",
          "name": "stdout",
          "text": [
            "Requirement already satisfied: torch in /usr/local/lib/python3.12/dist-packages (2.8.0+cu126)\n",
            "Requirement already satisfied: pandas in /usr/local/lib/python3.12/dist-packages (2.2.2)\n",
            "Requirement already satisfied: numpy in /usr/local/lib/python3.12/dist-packages (2.0.2)\n",
            "Requirement already satisfied: matplotlib in /usr/local/lib/python3.12/dist-packages (3.10.0)\n",
            "Requirement already satisfied: filelock in /usr/local/lib/python3.12/dist-packages (from torch) (3.19.1)\n",
            "Requirement already satisfied: typing-extensions>=4.10.0 in /usr/local/lib/python3.12/dist-packages (from torch) (4.14.1)\n",
            "Requirement already satisfied: setuptools in /usr/local/lib/python3.12/dist-packages (from torch) (75.2.0)\n",
            "Requirement already satisfied: sympy>=1.13.3 in /usr/local/lib/python3.12/dist-packages (from torch) (1.13.3)\n",
            "Requirement already satisfied: networkx in /usr/local/lib/python3.12/dist-packages (from torch) (3.5)\n",
            "Requirement already satisfied: jinja2 in /usr/local/lib/python3.12/dist-packages (from torch) (3.1.6)\n",
            "Requirement already satisfied: fsspec in /usr/local/lib/python3.12/dist-packages (from torch) (2025.3.0)\n",
            "Requirement already satisfied: nvidia-cuda-nvrtc-cu12==12.6.77 in /usr/local/lib/python3.12/dist-packages (from torch) (12.6.77)\n",
            "Requirement already satisfied: nvidia-cuda-runtime-cu12==12.6.77 in /usr/local/lib/python3.12/dist-packages (from torch) (12.6.77)\n",
            "Requirement already satisfied: nvidia-cuda-cupti-cu12==12.6.80 in /usr/local/lib/python3.12/dist-packages (from torch) (12.6.80)\n",
            "Requirement already satisfied: nvidia-cudnn-cu12==9.10.2.21 in /usr/local/lib/python3.12/dist-packages (from torch) (9.10.2.21)\n",
            "Requirement already satisfied: nvidia-cublas-cu12==12.6.4.1 in /usr/local/lib/python3.12/dist-packages (from torch) (12.6.4.1)\n",
            "Requirement already satisfied: nvidia-cufft-cu12==11.3.0.4 in /usr/local/lib/python3.12/dist-packages (from torch) (11.3.0.4)\n",
            "Requirement already satisfied: nvidia-curand-cu12==10.3.7.77 in /usr/local/lib/python3.12/dist-packages (from torch) (10.3.7.77)\n",
            "Requirement already satisfied: nvidia-cusolver-cu12==11.7.1.2 in /usr/local/lib/python3.12/dist-packages (from torch) (11.7.1.2)\n",
            "Requirement already satisfied: nvidia-cusparse-cu12==12.5.4.2 in /usr/local/lib/python3.12/dist-packages (from torch) (12.5.4.2)\n",
            "Requirement already satisfied: nvidia-cusparselt-cu12==0.7.1 in /usr/local/lib/python3.12/dist-packages (from torch) (0.7.1)\n",
            "Requirement already satisfied: nvidia-nccl-cu12==2.27.3 in /usr/local/lib/python3.12/dist-packages (from torch) (2.27.3)\n",
            "Requirement already satisfied: nvidia-nvtx-cu12==12.6.77 in /usr/local/lib/python3.12/dist-packages (from torch) (12.6.77)\n",
            "Requirement already satisfied: nvidia-nvjitlink-cu12==12.6.85 in /usr/local/lib/python3.12/dist-packages (from torch) (12.6.85)\n",
            "Requirement already satisfied: nvidia-cufile-cu12==1.11.1.6 in /usr/local/lib/python3.12/dist-packages (from torch) (1.11.1.6)\n",
            "Requirement already satisfied: triton==3.4.0 in /usr/local/lib/python3.12/dist-packages (from torch) (3.4.0)\n",
            "Requirement already satisfied: python-dateutil>=2.8.2 in /usr/local/lib/python3.12/dist-packages (from pandas) (2.9.0.post0)\n",
            "Requirement already satisfied: pytz>=2020.1 in /usr/local/lib/python3.12/dist-packages (from pandas) (2025.2)\n",
            "Requirement already satisfied: tzdata>=2022.7 in /usr/local/lib/python3.12/dist-packages (from pandas) (2025.2)\n",
            "Requirement already satisfied: contourpy>=1.0.1 in /usr/local/lib/python3.12/dist-packages (from matplotlib) (1.3.3)\n",
            "Requirement already satisfied: cycler>=0.10 in /usr/local/lib/python3.12/dist-packages (from matplotlib) (0.12.1)\n",
            "Requirement already satisfied: fonttools>=4.22.0 in /usr/local/lib/python3.12/dist-packages (from matplotlib) (4.59.1)\n",
            "Requirement already satisfied: kiwisolver>=1.3.1 in /usr/local/lib/python3.12/dist-packages (from matplotlib) (1.4.9)\n",
            "Requirement already satisfied: packaging>=20.0 in /usr/local/lib/python3.12/dist-packages (from matplotlib) (25.0)\n",
            "Requirement already satisfied: pillow>=8 in /usr/local/lib/python3.12/dist-packages (from matplotlib) (11.3.0)\n",
            "Requirement already satisfied: pyparsing>=2.3.1 in /usr/local/lib/python3.12/dist-packages (from matplotlib) (3.2.3)\n",
            "Requirement already satisfied: six>=1.5 in /usr/local/lib/python3.12/dist-packages (from python-dateutil>=2.8.2->pandas) (1.17.0)\n",
            "Requirement already satisfied: mpmath<1.4,>=1.1.0 in /usr/local/lib/python3.12/dist-packages (from sympy>=1.13.3->torch) (1.3.0)\n",
            "Requirement already satisfied: MarkupSafe>=2.0 in /usr/local/lib/python3.12/dist-packages (from jinja2->torch) (3.0.2)\n"
          ]
        }
      ]
    },
    {
      "cell_type": "code",
      "source": [
        "import numpy as np\n",
        "import torch\n",
        "import torch.nn as nn\n",
        "import torch.optim as optim\n",
        "import matplotlib.pyplot as plt\n",
        "from scipy.stats import norm\n",
        "from sklearn.metrics import mean_squared_error"
      ],
      "metadata": {
        "id": "DbL3rx6zUzRg"
      },
      "execution_count": 5,
      "outputs": []
    },
    {
      "cell_type": "markdown",
      "source": [
        "## 1) Simulation Heston (Euler - full truncation)\n"
      ],
      "metadata": {
        "id": "kHLH4EbyU7ej"
      }
    },
    {
      "cell_type": "code",
      "source": [
        "def simulate_heston_paths(S0, v0, r, kappa, theta, sigma_v, rho, T, N, M, seed=42):\n",
        "    \"\"\"\n",
        "    Simule M trajectoires Heston (S_t, v_t) sur N pas (N+1 points) par Euler full-truncation.\n",
        "    Retourne S (M, N+1), v (M, N+1)\n",
        "    \"\"\"\n",
        "    rng = np.random.default_rng(seed)\n",
        "    dt = T / N\n",
        "    S = np.zeros((M, N+1), dtype=np.float64)\n",
        "    v = np.zeros((M, N+1), dtype=np.float64)\n",
        "    S[:,0] = S0\n",
        "    v[:,0] = v0\n",
        "\n",
        "    for t in range(1, N+1):\n",
        "        Z1 = rng.standard_normal(M)\n",
        "        Z2 = rng.standard_normal(M)\n",
        "        Z2 = rho * Z1 + np.sqrt(max(0.0, 1 - rho**2)) * Z2\n",
        "\n",
        "        v_prev = np.maximum(v[:, t-1], 0.0)\n",
        "        # variance step (CIR-like Euler with sqrt)\n",
        "        v[:, t] = v_prev + kappa * (theta - v_prev) * dt + sigma_v * np.sqrt(np.maximum(v_prev * dt, 0.0)) * Z2\n",
        "        v[:, t] = np.maximum(v[:, t], 0.0)\n",
        "\n",
        "        # asset step using previous v (avoid negative inside sqrt)\n",
        "        S[:, t] = S[:, t-1] * np.exp((r - 0.5 * v_prev) * dt + np.sqrt(np.maximum(v_prev * dt, 0.0)) * Z1)\n",
        "\n",
        "    return S, v\n"
      ],
      "metadata": {
        "id": "-2nKyz4xWNh1"
      },
      "execution_count": 6,
      "outputs": []
    },
    {
      "cell_type": "markdown",
      "source": [
        "**3. Modèle de couverture (réseau neuronal simple)**\n"
      ],
      "metadata": {
        "id": "zrmTatmIWeBG"
      }
    },
    {
      "cell_type": "code",
      "source": [
        "\n",
        "class HedgingNN(nn.Module):\n",
        "    def __init__(self, hidden_dim=64):\n",
        "        super().__init__()\n",
        "        self.net = nn.Sequential(\n",
        "            nn.Linear(2, hidden_dim),\n",
        "            nn.ReLU(),\n",
        "            nn.Linear(hidden_dim, hidden_dim),\n",
        "            nn.ReLU(),\n",
        "            nn.Linear(hidden_dim, 1)   # position scalar at time t\n",
        "        )\n",
        "    def forward(self, x):\n",
        "        # x: (B, 2) -> output: (B,1)\n",
        "        return self.net(x)\n"
      ],
      "metadata": {
        "id": "i2rL0zomWrRO"
      },
      "execution_count": 7,
      "outputs": []
    },
    {
      "cell_type": "markdown",
      "source": [
        "## 3) Utilitaires : delta BS robuste, transaction cost, CVaR loss\n"
      ],
      "metadata": {
        "id": "d9GWUtbjXApW"
      }
    },
    {
      "cell_type": "code",
      "source": [
        "def bs_delta_call(S, K, tau, r, sigma):\n",
        "    \"\"\"\n",
        "    Delta of European call for vector S and scalar/array tau.\n",
        "    S : array-like\n",
        "    tau: time to maturity (can be scalar or array-like same shape as S)\n",
        "    Returns Nd1.\n",
        "    \"\"\"\n",
        "    S = np.array(S, dtype=np.float64)\n",
        "    tau = np.array(tau, dtype=np.float64)\n",
        "    tau_eff = np.maximum(tau, 1e-9)\n",
        "    d1 = (np.log(np.maximum(S,1e-12) / K) + (r + 0.5 * sigma**2) * tau_eff) / (sigma * np.sqrt(tau_eff))\n",
        "    return norm.cdf(d1)\n",
        "\n",
        "def transaction_cost(phi, S_t, rate):\n",
        "    \"\"\"\n",
        "    phi: torch tensor (B, N) positions\n",
        "    S_t: torch tensor (B, N) prices at times t (start of each interval)\n",
        "    rate: scalar cost coefficient\n",
        "    returns: cost per path (B,)\n",
        "    \"\"\"\n",
        "    phi_prev = torch.zeros_like(phi[:, :1])\n",
        "    dphi = torch.abs(phi - torch.cat([phi_prev, phi[:, :-1]], dim=1))\n",
        "    cost = rate * (dphi * S_t).sum(dim=1)\n",
        "    return cost\n",
        "\n",
        "class CVaRLoss(nn.Module):\n",
        "    def __init__(self, alpha=0.95, init_eta=0.0):\n",
        "        super().__init__()\n",
        "        self.alpha = alpha\n",
        "        self.eta = nn.Parameter(torch.tensor([init_eta], dtype=torch.float32))\n",
        "    def forward(self, losses):\n",
        "        # losses: tensor (B,) representing shortfall per path\n",
        "        excess = torch.relu(losses - self.eta)\n",
        "        return self.eta + (1.0 / (1.0 - self.alpha)) * excess.mean()\n"
      ],
      "metadata": {
        "id": "XtYjy7CfXIWZ"
      },
      "execution_count": 8,
      "outputs": []
    },
    {
      "cell_type": "markdown",
      "source": [
        "## 4) Boucle d'entraînement vectorisée (pour S_paths simulées Heston)\n",
        "- On entraîne sur minibatches de trajectoires.\n",
        "- Loss calculée sur le shortfall = (payoff - pnl) + lambda * cost.\n",
        "- Option: risk=\"mse\" or \"cvar\".\n"
      ],
      "metadata": {
        "id": "EeTrJMiGhugi"
      }
    },
    {
      "cell_type": "code",
      "source": [
        "def train_deep_hedging_heston(\n",
        "    S_paths, K, r, T, model,\n",
        "    n_epochs=30, lr=1e-3, batch_size=1024,\n",
        "    risk=\"cvar\", alpha=0.95,\n",
        "    tc_rate=0.0, tc_lambda=1.0,\n",
        "    weight_decay=0.0,\n",
        "    device=None,\n",
        "    verbose=True,\n",
        "    seed=123\n",
        "):\n",
        "    \"\"\"\n",
        "    S_paths: np.array (M, N+1)\n",
        "    model: HedgingNN instance\n",
        "    returns: train_losses, shortfall_nn (np array), shortfall_delta (np array)\n",
        "    \"\"\"\n",
        "    if device is None:\n",
        "        device = torch.device(\"cuda\" if torch.cuda.is_available() else \"cpu\")\n",
        "    torch.manual_seed(seed)\n",
        "    np.random.seed(seed)\n",
        "\n",
        "    model = model.to(device)\n",
        "    M, N_plus_1 = S_paths.shape\n",
        "    N = N_plus_1 - 1\n",
        "    dt = T / N\n",
        "\n",
        "    # Precompute tensors\n",
        "    S_full = torch.tensor(S_paths, dtype=torch.float32, device=device)           # (M, N+1)\n",
        "    dS_full = S_full[:, 1:] - S_full[:, :-1]                                     # (M, N)\n",
        "    logS_full = torch.log(S_full[:, :-1])                                        # (M, N)\n",
        "    tau_vec = torch.linspace(T - dt, dt, N, device=device).unsqueeze(0).expand(M, N)  # (M, N)\n",
        "    payoff_full = torch.clamp(S_full[:, -1] - K, min=0.0)                         # (M,)\n",
        "\n",
        "    # risk objective\n",
        "    if risk.lower() == \"cvar\":\n",
        "        risk_obj = CVaRLoss(alpha=alpha).to(device)\n",
        "        params = list(model.parameters()) + list(risk_obj.parameters())\n",
        "    else:\n",
        "        risk_obj = nn.MSELoss(reduction=\"mean\")\n",
        "        params = list(model.parameters())\n",
        "\n",
        "    optimizer = optim.Adam(params, lr=lr, weight_decay=weight_decay)\n",
        "\n",
        "    idx_all = torch.arange(M, device=device)\n",
        "    train_losses = []\n",
        "\n",
        "    # Flattened inputs will be created per batch to evaluate model in one forward\n",
        "    for epoch in range(n_epochs):\n",
        "        perm = idx_all[torch.randperm(M)]\n",
        "        epoch_loss = 0.0\n",
        "        n_batches = 0\n",
        "        t0 = time.time()\n",
        "\n",
        "        for start in range(0, M, batch_size):\n",
        "            end = min(start + batch_size, M)\n",
        "            idx = perm[start:end]\n",
        "\n",
        "            S = S_full[idx]            # (B, N+1)\n",
        "            dS = dS_full[idx]          # (B, N)\n",
        "            logS = logS_full[idx]      # (B, N)\n",
        "            tau = tau_vec[idx]         # (B, N)\n",
        "            payoff = payoff_full[idx]  # (B,)\n",
        "\n",
        "            B = S.shape[0]\n",
        "            # features -> (B*N, 2)\n",
        "            X = torch.stack([logS, tau], dim=-1).reshape(-1, 2)   # (B*N, 2)\n",
        "            phi = model(X).reshape(B, N)                         # (B, N) positions\n",
        "            pnl = (phi * dS).sum(dim=1)                          # (B,)\n",
        "\n",
        "            # transaction cost\n",
        "            cost = transaction_cost(phi, S[:, :-1], tc_rate) if tc_rate > 0 else torch.zeros_like(pnl)\n",
        "\n",
        "            # shortfall per path: (payoff - pnl) + lambda*cost\n",
        "            L = (payoff - pnl) + tc_lambda * cost\n",
        "\n",
        "            optimizer.zero_grad()\n",
        "            if risk.lower() == \"cvar\":\n",
        "                loss = risk_obj(L)\n",
        "            else:\n",
        "                # we want L close to 0 => MSE(L, 0)\n",
        "                loss = risk_obj(L, torch.zeros_like(L))\n",
        "            loss.backward()\n",
        "            optimizer.step()\n",
        "\n",
        "            epoch_loss += loss.item()\n",
        "            n_batches += 1\n",
        "\n",
        "        avg_loss = epoch_loss / max(1, n_batches)\n",
        "        train_losses.append(avg_loss)\n",
        "        if verbose:\n",
        "            dt_epoch = time.time() - t0\n",
        "            if risk.lower() == \"cvar\":\n",
        "                print(f\"Epoch {epoch+1}/{n_epochs} - Loss(CVaR@{alpha:.2f})={avg_loss:.6f} - time {dt_epoch:.1f}s - eta={risk_obj.eta.item():.6f}\")\n",
        "            else:\n",
        "                print(f\"Epoch {epoch+1}/{n_epochs} - Loss(MSE)={avg_loss:.6f} - time {dt_epoch:.1f}s\")\n",
        "\n",
        "    # Evaluation full set\n",
        "    with torch.no_grad():\n",
        "        X_full = torch.stack([logS_full, tau_vec], dim=-1).reshape(-1, 2)\n",
        "        phi_full = model(X_full).reshape(M, N)             # (M,N)\n",
        "        pnl_full = (phi_full * dS_full).sum(dim=1).cpu().numpy()\n",
        "        cost_full = transaction_cost(phi_full, S_full[:, :-1], tc_rate).cpu().numpy() if tc_rate > 0 else np.zeros(M)\n",
        "        shortfall_nn = (payoff_full.cpu().numpy() - pnl_full) + tc_lambda * cost_full\n",
        "\n",
        "        # baseline delta approx: use effective vol = sqrt(mean(v) ) estimated from trajectories if available (user can pass)\n",
        "        # Here we approximate vol by empirical std of log-returns aggregated (quick heuristic)\n",
        "        # Compute per-path delta using bs_delta_call with sigma_eff\n",
        "        # We'll compute a single scalar sigma_eff from data\n",
        "        logret = np.log(S_paths[:,1:] / S_paths[:,:-1])\n",
        "        sigma_eff = np.sqrt(np.mean(logret.var(axis=1))) * np.sqrt(252.0) if logret.size>0 else 0.2\n",
        "        # but working in continuous time scaling: approximate daily->annual etc. We'll just use sqrt(mean variance)\n",
        "        # create delta positions grid for whole dataset (M, N)\n",
        "        t_grid = np.linspace(0, T - (T/N), N)  # time to maturity for each step start\n",
        "        # use sigma_eff as volatility estimate\n",
        "        delta_positions = bs_delta_call(S_paths[:, :-1], K, T - t_grid, r, sigma_eff)  # (M,N)\n",
        "        pnl_delta = (delta_positions * (S_paths[:, 1:] - S_paths[:, :-1])).sum(axis=1)\n",
        "        payoff_np = np.maximum(S_paths[:, -1] - K, 0.0)\n",
        "        shortfall_delta = payoff_np - pnl_delta\n",
        "\n",
        "    return train_losses, shortfall_nn, shortfall_delta, sigma_eff\n"
      ],
      "metadata": {
        "id": "Ja7bqPfDBPms"
      },
      "execution_count": 9,
      "outputs": []
    },
    {
      "cell_type": "markdown",
      "source": [
        "**6. Paramètres du problème et exécution**"
      ],
      "metadata": {
        "id": "Qjnum8ChXlGK"
      }
    },
    {
      "cell_type": "code",
      "source": [
        "from scipy.stats import norm\n",
        "import time\n",
        "# Paramètres Heston\n",
        "S0 = 100.0\n",
        "v0 = 0.04              # initial variance\n",
        "r = 0.0\n",
        "kappa = 2.0\n",
        "theta = 0.04\n",
        "sigma_v = 0.5\n",
        "rho = -0.7\n",
        "\n",
        "# Training / discretization\n",
        "T = 1.0\n",
        "N = 60\n",
        "M = 8000               # nombre de trajectoires (adapter selon mémoire)\n",
        "K = 100.0\n",
        "\n",
        "# Model + training hyperparams\n",
        "hidden_dim = 128\n",
        "n_epochs = 25\n",
        "lr = 1e-3\n",
        "batch_size = 1024\n",
        "risk = \"cvar\"          # \"cvar\" ou \"mse\"\n",
        "alpha = 0.95\n",
        "tc_rate = 1e-4         # coût transactionnel (proportionnel)\n",
        "tc_lambda = 1.0\n",
        "weight_decay = 1e-6\n",
        "\n",
        "# Simulate Heston paths\n",
        "print(\"Simulating Heston paths...\")\n",
        "S_paths, v_paths = simulate_heston_paths(S0, v0, r, kappa, theta, sigma_v, rho, T, N, M, seed=123)\n",
        "print(\"Done. shape S_paths:\", S_paths.shape)\n",
        "\n",
        "# Build model\n",
        "device = torch.device(\"cuda\" if torch.cuda.is_available() else \"cpu\")\n",
        "model = HedgingNN(hidden_dim=hidden_dim)\n",
        "\n",
        "# Train\n",
        "train_losses, shortfall_nn, shortfall_delta, sigma_eff = train_deep_hedging_heston(\n",
        "    S_paths, K, r, T, model,\n",
        "    n_epochs=n_epochs, lr=lr, batch_size=batch_size,\n",
        "    risk=risk, alpha=alpha,\n",
        "    tc_rate=tc_rate, tc_lambda=tc_lambda,\n",
        "    weight_decay=weight_decay,\n",
        "    device=device,\n",
        "    verbose=True,\n",
        "    seed=123\n",
        ")\n",
        "print(\"Training finished. sigma_eff (heuristic):\", sigma_eff)\n"
      ],
      "metadata": {
        "colab": {
          "base_uri": "https://localhost:8080/"
        },
        "id": "eE62yTXNXri3",
        "outputId": "12063ff0-a5f2-4a11-ada5-d0f951b282a7"
      },
      "execution_count": 11,
      "outputs": [
        {
          "output_type": "stream",
          "name": "stdout",
          "text": [
            "Simulating Heston paths...\n",
            "Done. shape S_paths: (8000, 61)\n",
            "Epoch 1/25 - Loss(CVaR@0.95)=149.450230 - time 2.5s - eta=0.007907\n",
            "Epoch 2/25 - Loss(CVaR@0.95)=145.037027 - time 2.5s - eta=0.015897\n",
            "Epoch 3/25 - Loss(CVaR@0.95)=145.541044 - time 2.6s - eta=0.024030\n",
            "Epoch 4/25 - Loss(CVaR@0.95)=145.475365 - time 1.5s - eta=0.032197\n",
            "Epoch 5/25 - Loss(CVaR@0.95)=145.041256 - time 1.9s - eta=0.040368\n",
            "Epoch 6/25 - Loss(CVaR@0.95)=144.381174 - time 2.1s - eta=0.048527\n",
            "Epoch 7/25 - Loss(CVaR@0.95)=145.133091 - time 1.5s - eta=0.056558\n",
            "Epoch 8/25 - Loss(CVaR@0.95)=145.872885 - time 1.5s - eta=0.064651\n",
            "Epoch 9/25 - Loss(CVaR@0.95)=145.147247 - time 1.5s - eta=0.072756\n",
            "Epoch 10/25 - Loss(CVaR@0.95)=144.385818 - time 1.6s - eta=0.080863\n",
            "Epoch 11/25 - Loss(CVaR@0.95)=144.625687 - time 1.6s - eta=0.088912\n",
            "Epoch 12/25 - Loss(CVaR@0.95)=144.830198 - time 1.5s - eta=0.096928\n",
            "Epoch 13/25 - Loss(CVaR@0.95)=144.760378 - time 2.0s - eta=0.104971\n",
            "Epoch 14/25 - Loss(CVaR@0.95)=144.628723 - time 2.1s - eta=0.113018\n",
            "Epoch 15/25 - Loss(CVaR@0.95)=143.967834 - time 1.5s - eta=0.121063\n",
            "Epoch 16/25 - Loss(CVaR@0.95)=143.121893 - time 1.5s - eta=0.129128\n",
            "Epoch 17/25 - Loss(CVaR@0.95)=144.353565 - time 1.5s - eta=0.137024\n",
            "Epoch 18/25 - Loss(CVaR@0.95)=144.771612 - time 1.5s - eta=0.144945\n",
            "Epoch 19/25 - Loss(CVaR@0.95)=144.309454 - time 1.4s - eta=0.152861\n",
            "Epoch 20/25 - Loss(CVaR@0.95)=143.509224 - time 1.5s - eta=0.160860\n",
            "Epoch 21/25 - Loss(CVaR@0.95)=142.779350 - time 2.1s - eta=0.168910\n",
            "Epoch 22/25 - Loss(CVaR@0.95)=142.035475 - time 1.9s - eta=0.176986\n",
            "Epoch 23/25 - Loss(CVaR@0.95)=141.456697 - time 1.6s - eta=0.185054\n",
            "Epoch 24/25 - Loss(CVaR@0.95)=141.643509 - time 1.5s - eta=0.193067\n",
            "Epoch 25/25 - Loss(CVaR@0.95)=142.507841 - time 1.5s - eta=0.201109\n",
            "Training finished. sigma_eff (heuristic): 0.40937475150870684\n"
          ]
        }
      ]
    },
    {
      "cell_type": "markdown",
      "source": [
        "7. **Visualisation des résultats**"
      ],
      "metadata": {
        "id": "dUJEjTdcYv6u"
      }
    },
    {
      "cell_type": "code",
      "source": [
        "# Loss curve\n",
        "plt.figure(figsize=(8,4))\n",
        "plt.plot(train_losses, marker='o')\n",
        "plt.title(\"Training loss\")\n",
        "plt.xlabel(\"Epoch\")\n",
        "plt.ylabel(\"Loss\")\n",
        "plt.grid(True)\n",
        "plt.show()\n",
        "\n",
        "# Histogram shortfalls\n",
        "plt.figure(figsize=(10,4))\n",
        "plt.hist(shortfall_nn, bins=80, alpha=0.6, density=True, label=\"Deep Hedging (shortfall)\")\n",
        "plt.hist(shortfall_delta, bins=80, alpha=0.6, density=True, label=\"Delta baseline (shortfall)\")\n",
        "plt.axvline(0, color='k', linestyle='--')\n",
        "plt.legend()\n",
        "plt.title(\"Distribution des shortfalls (payoff - P&L)\")\n",
        "plt.show()\n",
        "\n",
        "# RMSE\n",
        "rmse_nn = mean_squared_error(np.zeros_like(shortfall_nn), shortfall_nn, squared=False)\n",
        "rmse_delta = mean_squared_error(np.zeros_like(shortfall_delta), shortfall_delta, squared=False)\n",
        "print(f\"RMSE shortfall - Deep Hedging: {rmse_nn:.6f}\")\n",
        "print(f\"RMSE shortfall - Delta baseline: {rmse_delta:.6f}\")\n",
        "\n",
        "# Empirical ES@95% (tail mean of worst 5% losses)\n",
        "def empirical_es_tail(x, tail_prob=0.95):\n",
        "    # here shortfall = payoff - pnl; large positive = bad for hedger; we take mean of top (1-alpha) quantile\n",
        "    q = np.quantile(x, tail_prob)\n",
        "    tail = x[x >= q]\n",
        "    return tail.mean() if tail.size>0 else np.nan\n",
        "\n",
        "es_nn = empirical_es_tail(shortfall_nn, alpha)\n",
        "es_delta = empirical_es_tail(shortfall_delta, alpha)\n",
        "print(f\"ES@{int(alpha*100)}% shortfall - Deep Hedging: {es_nn:.6f}\")\n",
        "print(f\"ES@{int(alpha*100)}% shortfall - Delta baseline: {es_delta:.6f}\")\n"
      ],
      "metadata": {
        "colab": {
          "base_uri": "https://localhost:8080/",
          "height": 1000
        },
        "id": "63kxgU4DY3IJ",
        "outputId": "61192bfd-ac5f-4154-b135-7a860e09ad9d"
      },
      "execution_count": 12,
      "outputs": [
        {
          "output_type": "display_data",
          "data": {
            "text/plain": [
              "<Figure size 800x400 with 1 Axes>"
            ],
            "image/png": "[encoded data removed]"
          },
          "metadata": {}
        },
        {
          "output_type": "display_data",
          "data": {
            "text/plain": [
              "<Figure size 1000x400 with 1 Axes>"
            ],
            "image/png": "[encoded data removed]"
          },
          "metadata": {}
        },
        {
          "output_type": "error",
          "ename": "TypeError",
          "evalue": "got an unexpected keyword argument 'squared'",
          "traceback": [
            "\u001b[0;31m---------------------------------------------------------------------------\u001b[0m",
            "\u001b[0;31mTypeError\u001b[0m                                 Traceback (most recent call last)",
            "\u001b[0;32m/tmp/ipython-input-3698956423.py\u001b[0m in \u001b[0;36m<cell line: 0>\u001b[0;34m()\u001b[0m\n\u001b[1;32m     18\u001b[0m \u001b[0;34m\u001b[0m\u001b[0m\n\u001b[1;32m     19\u001b[0m \u001b[0;31m# RMSE\u001b[0m\u001b[0;34m\u001b[0m\u001b[0;34m\u001b[0m\u001b[0m\n\u001b[0;32m---> 20\u001b[0;31m \u001b[0mrmse_nn\u001b[0m \u001b[0;34m=\u001b[0m \u001b[0mmean_squared_error\u001b[0m\u001b[0;34m(\u001b[0m\u001b[0mnp\u001b[0m\u001b[0;34m.\u001b[0m\u001b[0mzeros_like\u001b[0m\u001b[0;34m(\u001b[0m\u001b[0mshortfall_nn\u001b[0m\u001b[0;34m)\u001b[0m\u001b[0;34m,\u001b[0m \u001b[0mshortfall_nn\u001b[0m\u001b[0;34m,\u001b[0m \u001b[0msquared\u001b[0m\u001b[0;34m=\u001b[0m\u001b[0;32mFalse\u001b[0m\u001b[0;34m)\u001b[0m\u001b[0;34m\u001b[0m\u001b[0;34m\u001b[0m\u001b[0m\n\u001b[0m\u001b[1;32m     21\u001b[0m \u001b[0mrmse_delta\u001b[0m \u001b[0;34m=\u001b[0m \u001b[0mmean_squared_error\u001b[0m\u001b[0;34m(\u001b[0m\u001b[0mnp\u001b[0m\u001b[0;34m.\u001b[0m\u001b[0mzeros_like\u001b[0m\u001b[0;34m(\u001b[0m\u001b[0mshortfall_delta\u001b[0m\u001b[0;34m)\u001b[0m\u001b[0;34m,\u001b[0m \u001b[0mshortfall_delta\u001b[0m\u001b[0;34m,\u001b[0m \u001b[0msquared\u001b[0m\u001b[0;34m=\u001b[0m\u001b[0;32mFalse\u001b[0m\u001b[0;34m)\u001b[0m\u001b[0;34m\u001b[0m\u001b[0;34m\u001b[0m\u001b[0m\n\u001b[1;32m     22\u001b[0m \u001b[0mprint\u001b[0m\u001b[0;34m(\u001b[0m\u001b[0;34mf\"RMSE shortfall - Deep Hedging: {rmse_nn:.6f}\"\u001b[0m\u001b[0;34m)\u001b[0m\u001b[0;34m\u001b[0m\u001b[0;34m\u001b[0m\u001b[0m\n",
            "\u001b[0;32m/usr/local/lib/python3.12/dist-packages/sklearn/utils/_param_validation.py\u001b[0m in \u001b[0;36mwrapper\u001b[0;34m(*args, **kwargs)\u001b[0m\n\u001b[1;32m    192\u001b[0m \u001b[0;34m\u001b[0m\u001b[0m\n\u001b[1;32m    193\u001b[0m             \u001b[0;31m# Map *args/**kwargs to the function signature\u001b[0m\u001b[0;34m\u001b[0m\u001b[0;34m\u001b[0m\u001b[0m\n\u001b[0;32m--> 194\u001b[0;31m             \u001b[0mparams\u001b[0m \u001b[0;34m=\u001b[0m \u001b[0mfunc_sig\u001b[0m\u001b[0;34m.\u001b[0m\u001b[0mbind\u001b[0m\u001b[0;34m(\u001b[0m\u001b[0;34m*\u001b[0m\u001b[0margs\u001b[0m\u001b[0;34m,\u001b[0m \u001b[0;34m**\u001b[0m\u001b[0mkwargs\u001b[0m\u001b[0;34m)\u001b[0m\u001b[0;34m\u001b[0m\u001b[0;34m\u001b[0m\u001b[0m\n\u001b[0m\u001b[1;32m    195\u001b[0m             \u001b[0mparams\u001b[0m\u001b[0;34m.\u001b[0m\u001b[0mapply_defaults\u001b[0m\u001b[0;34m(\u001b[0m\u001b[0;34m)\u001b[0m\u001b[0;34m\u001b[0m\u001b[0;34m\u001b[0m\u001b[0m\n\u001b[1;32m    196\u001b[0m \u001b[0;34m\u001b[0m\u001b[0m\n",
            "\u001b[0;32m/usr/lib/python3.12/inspect.py\u001b[0m in \u001b[0;36mbind\u001b[0;34m(self, *args, **kwargs)\u001b[0m\n\u001b[1;32m   3278\u001b[0m         \u001b[0;32mif\u001b[0m \u001b[0mthe\u001b[0m \u001b[0mpassed\u001b[0m \u001b[0marguments\u001b[0m \u001b[0mcan\u001b[0m \u001b[0;32mnot\u001b[0m \u001b[0mbe\u001b[0m \u001b[0mbound\u001b[0m\u001b[0;34m.\u001b[0m\u001b[0;34m\u001b[0m\u001b[0;34m\u001b[0m\u001b[0m\n\u001b[1;32m   3279\u001b[0m         \"\"\"\n\u001b[0;32m-> 3280\u001b[0;31m         \u001b[0;32mreturn\u001b[0m \u001b[0mself\u001b[0m\u001b[0;34m.\u001b[0m\u001b[0m_bind\u001b[0m\u001b[0;34m(\u001b[0m\u001b[0margs\u001b[0m\u001b[0;34m,\u001b[0m \u001b[0mkwargs\u001b[0m\u001b[0;34m)\u001b[0m\u001b[0;34m\u001b[0m\u001b[0;34m\u001b[0m\u001b[0m\n\u001b[0m\u001b[1;32m   3281\u001b[0m \u001b[0;34m\u001b[0m\u001b[0m\n\u001b[1;32m   3282\u001b[0m     \u001b[0;32mdef\u001b[0m \u001b[0mbind_partial\u001b[0m\u001b[0;34m(\u001b[0m\u001b[0mself\u001b[0m\u001b[0;34m,\u001b[0m \u001b[0;34m/\u001b[0m\u001b[0;34m,\u001b[0m \u001b[0;34m*\u001b[0m\u001b[0margs\u001b[0m\u001b[0;34m,\u001b[0m \u001b[0;34m**\u001b[0m\u001b[0mkwargs\u001b[0m\u001b[0;34m)\u001b[0m\u001b[0;34m:\u001b[0m\u001b[0;34m\u001b[0m\u001b[0;34m\u001b[0m\u001b[0m\n",
            "\u001b[0;32m/usr/lib/python3.12/inspect.py\u001b[0m in \u001b[0;36m_bind\u001b[0;34m(self, args, kwargs, partial)\u001b[0m\n\u001b[1;32m   3267\u001b[0m                 )\n\u001b[1;32m   3268\u001b[0m             \u001b[0;32melse\u001b[0m\u001b[0;34m:\u001b[0m\u001b[0;34m\u001b[0m\u001b[0;34m\u001b[0m\u001b[0m\n\u001b[0;32m-> 3269\u001b[0;31m                 raise TypeError(\n\u001b[0m\u001b[1;32m   3270\u001b[0m                     'got an unexpected keyword argument {arg!r}'.format(\n\u001b[1;32m   3271\u001b[0m                         arg=next(iter(kwargs))))\n",
            "\u001b[0;31mTypeError\u001b[0m: got an unexpected keyword argument 'squared'"
          ]
        }
      ]
    },
    {
      "cell_type": "markdown",
      "source": [
        "## 7) Sauvegarde du modèle (optionnel)\n"
      ],
      "metadata": {
        "id": "ghnBNYteZYBQ"
      }
    },
    {
      "cell_type": "code",
      "source": [
        "# Sauvegarde du modèle entraîné (fichier .pt)\n",
        "torch.save(model.state_dict(), \"deep_hedging_heston_model.pt\")\n",
        "print(\"Model saved to deep_hedging_heston_model.pt\")\n"
      ],
      "metadata": {
        "id": "E0xucOSbZfET",
        "outputId": "1c418cd1-529d-4342-d0de-ffbd7cfa7724",
        "colab": {
          "base_uri": "https://localhost:8080/"
        }
      },
      "execution_count": 13,
      "outputs": [
        {
          "output_type": "stream",
          "name": "stdout",
          "text": [
            "Model saved to deep_hedging_heston_model.pt\n"
          ]
        }
      ]
    },
    {
      "cell_type": "code",
      "source": [],
      "metadata": {
        "id": "79jSuPQ-jfkK"
      },
      "execution_count": null,
      "outputs": []
    },
    {
      "cell_type": "markdown",
      "source": [
        "## 8) Remarques & pistes d'amélioration\n",
        "- La baseline delta est approximative dans un marché Heston ; on pourrait calculer le delta sous la mesure risque-neutre via outils semi-analytiques (plus cher).  \n",
        "- On a utilisé une heuristique sigma_eff; pour un benchmark plus fin, calculer une implied volatility ou utiliser la moyenne de v_t.  \n",
        "- On peut enrichir les features : inclure estimateurs de volatilité (p.ex. moyenne mobile de squared returns), historique d'ordres, etc.  \n",
        "- Pour de meilleures performances, on doit d'ajuster `M`, `batch_size`, `hidden_dim`, `lr`, `tc_rate`.  \n",
        "- Pour la CVaR, il faut surveillez  `eta` (paramètre appris) ; il donne une idée du seuil de pertes extrêmes.\n"
      ],
      "metadata": {
        "id": "awRs79UFji1m"
      }
    },
    {
      "cell_type": "markdown",
      "source": [],
      "metadata": {
        "id": "Jb6qCIDSjenZ"
      }
    },
    {
      "cell_type": "code",
      "source": [],
      "metadata": {
        "id": "8gFp1acWjld4"
      },
      "execution_count": null,
      "outputs": []
    }
  ]
}